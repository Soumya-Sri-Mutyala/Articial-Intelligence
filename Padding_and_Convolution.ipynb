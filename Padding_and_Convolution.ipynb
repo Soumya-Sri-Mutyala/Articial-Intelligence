{
  "cells": [
    {
      "cell_type": "markdown",
      "metadata": {
        "id": "view-in-github",
        "colab_type": "text"
      },
      "source": [
        "<a href=\"https://colab.research.google.com/github/Soumya-Sri-Mutyala/Articial-Intelligence/blob/main/Padding_and_Convolution.ipynb\" target=\"_parent\"><img src=\"https://colab.research.google.com/assets/colab-badge.svg\" alt=\"Open In Colab\"/></a>"
      ]
    },
    {
      "cell_type": "code",
      "execution_count": null,
      "metadata": {
        "id": "V-S6OQ-CZvnh"
      },
      "outputs": [],
      "source": [
        "import numpy as np\n",
        "import h5py\n",
        "import matplotlib.pyplot as plt\n",
        "\n",
        "plt.rcParams['figure.figsize'] = (5.0, 4.0)\n",
        "plt.rcParams['image.interpolation']='nearest'\n",
        "plt.rcParams['image.cmap']='gray'\n",
        "\n",
        "np.random.seed(1)"
      ]
    },
    {
      "cell_type": "markdown",
      "metadata": {
        "id": "UHUgAmrVZvni"
      },
      "source": [
        "### Zero Padding"
      ]
    },
    {
      "cell_type": "code",
      "execution_count": null,
      "metadata": {
        "id": "oubu0QYWZvnj",
        "outputId": "03b23219-8c40-44a7-d648-5a1f279327f4"
      },
      "outputs": [
        {
          "name": "stdout",
          "output_type": "stream",
          "text": [
            "x.shape = (4, 3, 3, 2)\n",
            "x_pad.shape = (4, 7, 7, 2)\n",
            "x[1, 1] = [[ 0.90085595 -0.68372786]\n",
            " [-0.12289023 -0.93576943]\n",
            " [-0.26788808  0.53035547]]\n",
            "x_pad[1, 1] = [[0. 0.]\n",
            " [0. 0.]\n",
            " [0. 0.]\n",
            " [0. 0.]\n",
            " [0. 0.]\n",
            " [0. 0.]\n",
            " [0. 0.]]\n"
          ]
        },
        {
          "data": {
            "text/plain": [
              "<matplotlib.image.AxesImage at 0x7fbc10283280>"
            ]
          },
          "execution_count": 3,
          "metadata": {},
          "output_type": "execute_result"
        },
        {
          "data": {
            "image/png": "[encoded data removed]",
            "text/plain": [
              "<Figure size 360x288 with 2 Axes>"
            ]
          },
          "metadata": {
            "needs_background": "light"
          },
          "output_type": "display_data"
        }
      ],
      "source": [
        "def zero_pad(X, pad):\n",
        "    X_pad = np.pad(X, ((0, 0), (pad, pad), (pad, pad), (0, 0)), 'constant', constant_values=0)\n",
        "    return X_pad\n",
        "\n",
        "np.random.seed(1)\n",
        "x = np.random.randn(4, 3, 3, 2)\n",
        "x_pad = zero_pad(x, 2)\n",
        "print(\"x.shape =\", x.shape)\n",
        "print(\"x_pad.shape =\", x_pad.shape)\n",
        "print(\"x[1, 1] =\", x[1, 1])\n",
        "print(\"x_pad[1, 1] =\", x_pad[1, 1])\n",
        "\n",
        "fig, axarr = plt.subplots(1, 2)\n",
        "axarr[0].set_title('x')\n",
        "axarr[0].imshow(x[0,:,:,0])\n",
        "axarr[1].set_title('x_pad')\n",
        "axarr[1].imshow(x_pad[0,:,:,0])"
      ]
    },
    {
      "cell_type": "code",
      "execution_count": null,
      "metadata": {
        "id": "e-G4zZoCZvnk"
      },
      "outputs": [],
      "source": [
        "def conv_forward(A_prev, W, b, hparameters):\n",
        "    (m, n_H_prev, n_W_prev, n_C_prev) = A_prev.shape\n",
        "    (f, f, n_C_prev, n_C) = W.shape\n",
        "    stride = hparameters['stride']\n",
        "    pad = hparameters['pad']\n",
        "    n_H = int((n_H_prev - f + 2 * pad) / stride) + 1\n",
        "    n_W = int((n_W_prev - f + 2 * pad) / stride) + 1\n",
        "    Z = np.zeros((m, n_H, n_W, n_C))\n",
        "    A_prev_pad = zero_pad(A_prev, pad)\n",
        "    for i in range(m):\n",
        "        a_prev_pad = A_prev_pad[i]\n",
        "        for h in range(n_H):\n",
        "            for w in range(n_W):\n",
        "                for c in range(n_C):\n",
        "                    vert_start = h * stride\n",
        "                    vert_end = vert_start + f\n",
        "                    horiz_start = w * stride\n",
        "                    horiz_end = horiz_start + f\n",
        "                    a_slice_prev = a_prev_pad[vert_start:vert_end, horiz_start:horiz_end, :]\n",
        "                    Z[i, h, w, c] = conv_single_step(a_slice_prev, W[...,c], b[...,c])\n",
        "                    assert(Z.shape == (m, n_H, n_W, n_C))\n",
        "                    cache = (A_Prev, W, b, hparameters)\n",
        "                    return Z, cache"
      ]
    },
    {
      "cell_type": "code",
      "execution_count": null,
      "metadata": {
        "id": "Q_u6EdbGZvnk"
      },
      "outputs": [],
      "source": [
        "def conv_single_step(a_slice_prev, W, b):\n",
        "    s = np.multiply(a_slice_prev, W) + b\n",
        "    Z = np.sum(s)\n",
        "    return Z"
      ]
    },
    {
      "cell_type": "code",
      "execution_count": null,
      "metadata": {
        "id": "nRlbiPFWZvnl"
      },
      "outputs": [],
      "source": [
        "def pool_forward(A_prev, hparameters, mode = \"max\"):\n",
        "    (m, n_H_prev, n_W_prev, n_C_prev) = A_prev.shape\n",
        "    f = hparameters[\"f\"]\n",
        "    stride = hparameters[\"stride\"]\n",
        "    n_H = int(1 + (n_H_prev - f)/ stride)\n",
        "    n_W = int(1 + (n_W_prev - f)/ stride)\n",
        "    n_C = n_C_prev\n",
        "    A = np.zeros((m, n_H, n_W, n_C))\n",
        "    for i in range(m):\n",
        "        for h in range(n_H):\n",
        "            for w in range(n_W):\n",
        "                for c in range(n_C):\n",
        "                    vert_start = h * stride\n",
        "                    vert_end = vert_start + f\n",
        "                    horiz_start = w * stride\n",
        "                    horiz_end = horiz_start + f\n",
        "                    a_prev_slice = A_prev[i, vert_start:vert_end, horiz_start:horiz_end, c]\n",
        "                    if mode == \"max\":\n",
        "                        A[i, h, w, c] = np.max(a_prev_slice)\n",
        "                    elif mode == \"average\":\n",
        "                        A[i, h, w, c] = np.mean(a_prev_slice)\n",
        "    cache = (A_prev, hparameters)\n",
        "    assert(A.shape == (m, n_H, n_W, n_C))\n",
        "    return A, cache\n",
        "                    "
      ]
    },
    {
      "cell_type": "code",
      "execution_count": null,
      "metadata": {
        "id": "qm5tUHFDZvnl"
      },
      "outputs": [],
      "source": [
        "def relu(A_prev):\n",
        "    A_prev=np.maximum(0,A_prev)\n",
        "    return A_prev   "
      ]
    },
    {
      "cell_type": "code",
      "execution_count": null,
      "metadata": {
        "id": "IVTs7FaIZvnm",
        "outputId": "85e4a5d0-b6e9-4784-92e2-ad5d740b3ca9"
      },
      "outputs": [
        {
          "name": "stdout",
          "output_type": "stream",
          "text": [
            "mode = max\n",
            "A = [[[[1.74481176 1.6924546  2.10025514]]]\n",
            "\n",
            "\n",
            " [[[1.19891788 1.51981682 2.18557541]]]]\n",
            "\n",
            "mode = average\n",
            "A = [[[[-0.09498456  0.11180064 -0.14263511]]]\n",
            "\n",
            "\n",
            " [[[-0.09525108  0.28325018  0.33035185]]]]\n"
          ]
        }
      ],
      "source": [
        "np.random.seed(1)\n",
        "A_prev = np.random.randn(2, 4, 4, 3)\n",
        "hparameters = {\"stride\" : 1, \"f\": 4}\n",
        "A, cache = pool_forward(A_prev, hparameters)\n",
        "print(\"mode = max\")\n",
        "print(\"A =\", A)\n",
        "print()\n",
        "A, cache = pool_forward(A_prev, hparameters, mode = \"average\")\n",
        "print(\"mode = average\")\n",
        "print(\"A =\", A)"
      ]
    },
    {
      "cell_type": "code",
      "execution_count": null,
      "metadata": {
        "id": "rRwtUsp5Zvnm",
        "outputId": "f1880f38-159b-4851-d461-bcddcbe48628"
      },
      "outputs": [
        {
          "name": "stdout",
          "output_type": "stream",
          "text": [
            "Number 1 time\n",
            "Z's mean = 0.0011401740352391095\n",
            "cache_conv[0][1][2][3] = [-0.20075807  0.18656139  0.41005165]\n",
            "Number 1 time\n",
            "A = [[[[1.74481176 1.6924546  2.10025514]]]\n",
            "\n",
            "\n",
            " [[[1.19891788 1.51981682 2.18557541]]]\n",
            "\n",
            "\n",
            " [[[1.96710175 1.12141771 1.27375593]]]\n",
            "\n",
            "\n",
            " [[[2.19069973 2.52832571 1.33145711]]]\n",
            "\n",
            "\n",
            " [[[2.44936865 1.6169496  1.9560789 ]]]\n",
            "\n",
            "\n",
            " [[[1.39984394 2.05117344 1.81053491]]]\n",
            "\n",
            "\n",
            " [[[2.06578332 1.45142926 3.03085711]]]\n",
            "\n",
            "\n",
            " [[[0.92001793 2.13782807 1.83471763]]]\n",
            "\n",
            "\n",
            " [[[2.11060505 2.0546241  1.1157018 ]]]\n",
            "\n",
            "\n",
            " [[[1.04499441 1.78975468 1.86647138]]]]\n",
            "Number 2 time\n",
            "Z's mean = 0.0011401740352391095\n",
            "cache_conv[0][1][2][3] = [-0.20075807  0.18656139  0.41005165]\n",
            "Number 2 time\n",
            "A = [[[[1.74481176 1.6924546  2.10025514]]]\n",
            "\n",
            "\n",
            " [[[1.19891788 1.51981682 2.18557541]]]\n",
            "\n",
            "\n",
            " [[[1.96710175 1.12141771 1.27375593]]]\n",
            "\n",
            "\n",
            " [[[2.19069973 2.52832571 1.33145711]]]\n",
            "\n",
            "\n",
            " [[[2.44936865 1.6169496  1.9560789 ]]]\n",
            "\n",
            "\n",
            " [[[1.39984394 2.05117344 1.81053491]]]\n",
            "\n",
            "\n",
            " [[[2.06578332 1.45142926 3.03085711]]]\n",
            "\n",
            "\n",
            " [[[0.92001793 2.13782807 1.83471763]]]\n",
            "\n",
            "\n",
            " [[[2.11060505 2.0546241  1.1157018 ]]]\n",
            "\n",
            "\n",
            " [[[1.04499441 1.78975468 1.86647138]]]]\n"
          ]
        }
      ],
      "source": [
        "for i in range(2):\n",
        "    np.random.seed(1)\n",
        "    A_prev = np.random.randn(10, 4, 4, 3)\n",
        "    W = np.random.randn(2, 2, 3, 8)\n",
        "    b = np.random.randn(1, 1, 1, 8)\n",
        "    hparameters = {\"pad\" : 2,\n",
        "                  \"stride\" : 1}\n",
        "    Z, cache_conv = conv_forward(A_prev, W, b, hparameters)\n",
        "    print(str(i+1)+\" time\")\n",
        "    print(\"Z's mean =\", np.mean(Z))\n",
        "    print(\"cache_conv[0][1][2][3] =\", cache_conv[0][1][2][3])\n",
        "    A_prev=relu(A_prev)\n",
        "    hparameters = {\"stride\" : 1, \"f\" : 4}\n",
        "    \n",
        "    A, cache= pool_forward(A_prev, hparameters)\n",
        "    print(str(i+1)+\" time\")\n",
        "    print('A =', A)"
      ]
    }
  ],
  "metadata": {
    "kernelspec": {
      "display_name": "Python 3",
      "language": "python",
      "name": "python3"
    },
    "language_info": {
      "codemirror_mode": {
        "name": "ipython",
        "version": 3
      },
      "file_extension": ".py",
      "mimetype": "text/x-python",
      "name": "python",
      "nbconvert_exporter": "python",
      "pygments_lexer": "ipython3",
      "version": "3.8.5"
    },
    "colab": {
      "name": "Padding and Convolution.ipynb",
      "provenance": [],
      "include_colab_link": true
    }
  },
  "nbformat": 4,
  "nbformat_minor": 0
}