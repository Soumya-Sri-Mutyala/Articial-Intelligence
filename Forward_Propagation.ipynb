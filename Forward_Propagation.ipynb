{
  "cells": [
    {
      "cell_type": "markdown",
      "metadata": {
        "id": "view-in-github",
        "colab_type": "text"
      },
      "source": [
        "<a href=\"https://colab.research.google.com/github/Soumya-Sri-Mutyala/Articial-Intelligence/blob/main/Forward_Propagation.ipynb\" target=\"_parent\"><img src=\"https://colab.research.google.com/assets/colab-badge.svg\" alt=\"Open In Colab\"/></a>"
      ]
    },
    {
      "cell_type": "code",
      "execution_count": null,
      "metadata": {
        "id": "I4kH2D2lZY6L",
        "outputId": "08761ffd-dbc1-4c0b-acb4-b9801e6adc5e"
      },
      "outputs": [
        {
          "name": "stdout",
          "output_type": "stream",
          "text": [
            "Error:0.4998796200991707\n",
            "Error:0.027586855321101326\n",
            "Error:0.018848053849680697\n",
            "Error:0.015189222187478976\n",
            "Error:0.013059745209422347\n",
            "Error:0.011626556337556923\n",
            "Error:0.01057837308357163\n",
            "Error:0.009769169221637852\n",
            "Error:0.009120221952213138\n",
            "Error:0.008584871751372462\n",
            "Output after training\n",
            "[[0.00955926]\n",
            " [0.99294825]\n",
            " [0.99294825]\n",
            " [0.00887135]]\n"
          ]
        }
      ],
      "source": [
        "import numpy as np\n",
        "\n",
        "def nonlin(x, deriv=False):\n",
        "    if(deriv==True):\n",
        "        return (x*(1-x))\n",
        "    \n",
        "    return 1/(1+np.exp(-x))\n",
        "\n",
        "# Input\n",
        "X = np.array([[0,0,1],\n",
        "              [0,1,1],\n",
        "              [1,0,1],\n",
        "              [1,1,1]])\n",
        "\n",
        "# Expected ouput\n",
        "y = np.array([[0],\n",
        "              [1],\n",
        "              [1],\n",
        "              [0]])\n",
        "\n",
        "np.random.seed(0)\n",
        "\n",
        "#randomly initializing the weights\n",
        "syn0 = 2*np.random.random((3,2))-1\n",
        "syn1 = 2*np.random.random((2,1))-1\n",
        "\n",
        "for j in range(100000):\n",
        "\n",
        "    #Forward propagation\n",
        "    l0 = X\n",
        "    l1 = nonlin(np.dot(l0,syn0))\n",
        "    l2 = nonlin(np.dot(l1,syn1))\n",
        "\n",
        "    #Error\n",
        "    l2_error = y - l2\n",
        "\n",
        "    if(j%10000)==0:\n",
        "        print(\"Error:\" + str(np.mean(np.abs(l2_error))))\n",
        "    \n",
        "    l2_delta = l2_error* nonlin(l2,deriv=True)\n",
        "\n",
        "    l1_error = l2_delta.dot(syn1.T)\n",
        "\n",
        "    l1_delta = l1_error * nonlin(l1,deriv=True)\n",
        "\n",
        "    #New weights\n",
        "    syn1 += l1.T.dot(l2_delta)\n",
        "    syn0 += l0.T.dot(l1_delta)\n",
        "    \n",
        "print(\"Output after training\")\n",
        "print(l2)\n"
      ]
    }
  ],
  "metadata": {
    "kernelspec": {
      "display_name": "Python 3",
      "language": "python",
      "name": "python3"
    },
    "language_info": {
      "codemirror_mode": {
        "name": "ipython",
        "version": 3
      },
      "file_extension": ".py",
      "mimetype": "text/x-python",
      "name": "python",
      "nbconvert_exporter": "python",
      "pygments_lexer": "ipython3",
      "version": "3.8.5"
    },
    "colab": {
      "name": "Forward Propagation.ipynb",
      "provenance": [],
      "include_colab_link": true
    }
  },
  "nbformat": 4,
  "nbformat_minor": 0
}